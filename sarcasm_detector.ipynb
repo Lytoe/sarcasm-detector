{
 "cells": [
  {
   "cell_type": "code",
   "execution_count": 5,
   "id": "4c82e42b-49c7-46d9-8deb-9ebb666deb80",
   "metadata": {},
   "outputs": [],
   "source": [
    "import nltk\n",
    "import pandas as pd"
   ]
  },
  {
   "cell_type": "code",
   "execution_count": 6,
   "id": "9351ce8c-81d1-4678-ac8d-8957c01758cc",
   "metadata": {},
   "outputs": [],
   "source": [
    "import spacy\n",
    "from nltk import sent_tokenize"
   ]
  },
  {
   "cell_type": "code",
   "execution_count": 7,
   "id": "5ab0f8bd-5fb7-4e18-8659-ec8548866279",
   "metadata": {},
   "outputs": [
    {
     "data": {
      "text/plain": [
       "'C:\\\\path\\\\to\\\\new\\\\virtual\\\\NLP\\\\envir'"
      ]
     },
     "execution_count": 7,
     "metadata": {},
     "output_type": "execute_result"
    }
   ],
   "source": [
    "pwd\n"
   ]
  },
  {
   "cell_type": "code",
   "execution_count": 8,
   "id": "e16ecb41-aaf7-44d8-a54b-db7c7b5b25d3",
   "metadata": {},
   "outputs": [],
   "source": [
    "df = pd.read_csv(r\"CommentsMay2017.csv\", low_memory= False)\n"
   ]
  },
  {
   "cell_type": "code",
   "execution_count": 9,
   "id": "b83f5d33-a135-49ef-9d5b-52a6688fa007",
   "metadata": {},
   "outputs": [
    {
     "data": {
      "text/plain": [
       "array(['comment', 'userReply', 'reporterReply'], dtype=object)"
      ]
     },
     "execution_count": 9,
     "metadata": {},
     "output_type": "execute_result"
    }
   ],
   "source": [
    "df['commentType'].unique()\n"
   ]
  },
  {
   "cell_type": "code",
   "execution_count": 10,
   "id": "f8433b72-99f1-4a58-ab29-202872bfbb5b",
   "metadata": {},
   "outputs": [],
   "source": [
    "df['sarcasm_label'] = None"
   ]
  },
  {
   "cell_type": "code",
   "execution_count": 11,
   "id": "a0a73195-5fba-4dab-8538-46bca27fab32",
   "metadata": {},
   "outputs": [],
   "source": [
    "df.drop(\"sarcasm_label\", axis = 1, inplace=True)"
   ]
  },
  {
   "cell_type": "code",
   "execution_count": 12,
   "id": "60f8aa80-e7d8-4a95-beda-efc4d1d1c86c",
   "metadata": {},
   "outputs": [
    {
     "data": {
      "text/plain": [
       "commentBody              object\n",
       "commentTitle             object\n",
       "commentType              object\n",
       "parentUserDisplayName    object\n",
       "permID                   object\n",
       "picURL                   object\n",
       "status                   object\n",
       "userDisplayName          object\n",
       "userLocation             object\n",
       "userTitle                object\n",
       "userURL                  object\n",
       "articleID                object\n",
       "sectionName              object\n",
       "newDesk                  object\n",
       "typeOfMaterial           object\n",
       "dtype: object"
      ]
     },
     "execution_count": 12,
     "metadata": {},
     "output_type": "execute_result"
    }
   ],
   "source": [
    "df.dtypes[df.dtypes == \"object\"]"
   ]
  },
  {
   "cell_type": "code",
   "execution_count": 13,
   "id": "e414aca6-1bf8-47bc-abf5-48fddf28cdfb",
   "metadata": {},
   "outputs": [],
   "source": [
    "df = df[[\"commentBody\"]].copy()"
   ]
  },
  {
   "cell_type": "code",
   "execution_count": 14,
   "id": "2c2b6a40-bccf-4663-880a-49f4fd90680e",
   "metadata": {},
   "outputs": [
    {
     "name": "stdout",
     "output_type": "stream",
     "text": [
      "duplicate : 896\n",
      "missing : 0\n"
     ]
    }
   ],
   "source": [
    "print(\"duplicate :\", df[\"commentBody\"].duplicated().sum())\n",
    "print(\"missing :\" ,df[\"commentBody\"].isnull().sum())"
   ]
  },
  {
   "cell_type": "code",
   "execution_count": 15,
   "id": "4512cb90-8aec-4c04-b09b-23f254cc0c7b",
   "metadata": {},
   "outputs": [],
   "source": [
    "df.drop_duplicates(subset=[\"commentBody\"], inplace= True)\n"
   ]
  },
  {
   "cell_type": "code",
   "execution_count": 16,
   "id": "080c277f-c327-4dbf-92df-252717aecf05",
   "metadata": {},
   "outputs": [],
   "source": [
    "text_column = df['commentBody']\n"
   ]
  },
  {
   "cell_type": "code",
   "execution_count": 17,
   "id": "be39ddca-7f97-4303-9ffa-76041176ca57",
   "metadata": {},
   "outputs": [],
   "source": [
    "words = text_column.str.split().explode()"
   ]
  },
  {
   "cell_type": "code",
   "execution_count": 18,
   "id": "2053a08e-ecf0-4f4a-89e4-7b3a56248c9a",
   "metadata": {},
   "outputs": [],
   "source": [
    "word_counts = words.value_counts()\n"
   ]
  },
  {
   "cell_type": "code",
   "execution_count": 19,
   "id": "8db3b475-e802-481b-9f80-caf79b6ec00b",
   "metadata": {},
   "outputs": [
    {
     "name": "stdout",
     "output_type": "stream",
     "text": [
      "commentBody\n",
      "the     928453\n",
      "to      558491\n",
      "and     481737\n",
      "of      463690\n",
      "a       379147\n",
      "         ...  \n",
      "US       13551\n",
      "--       13404\n",
      "In       13375\n",
      "You      13364\n",
      "back     13319\n",
      "Name: count, Length: 150, dtype: int64\n"
     ]
    }
   ],
   "source": [
    "top_n = 150  #you may change this to whatever you want\n",
    "most_common_words = word_counts.head(top_n)\n",
    "##pd.options.display.max_rows = 150\n",
    "print(most_common_words)"
   ]
  },
  {
   "cell_type": "code",
   "execution_count": 20,
   "id": "83c6ee03-57a1-4694-b27c-d8149c652546",
   "metadata": {},
   "outputs": [],
   "source": [
    "import re\n",
    "\n",
    "def clean_text(text):\n",
    "    text = text.lower()\n",
    "    text = re.sub(r\"http\\S+|www\\S+\", \"\", text)  # Remove URLs\n",
    "    text = re.sub(r\"[^a-zA-Z0-9\\s.,!?']\", \"\", text)  # Keep only useful characters\n",
    "    text = re.sub(r\"\\s+\", \" \", text).strip()  # Remove extra spaces\n",
    "    return text\n",
    "df[\"commentBody\"] = df[\"commentBody\"].apply(clean_text)\n"
   ]
  },
  {
   "cell_type": "code",
   "execution_count": 21,
   "id": "af21eed6-b904-476f-ae20-b4213650edd3",
   "metadata": {},
   "outputs": [
    {
     "data": {
      "text/plain": [
       "count    275493.000000\n",
       "mean        403.346270\n",
       "std         357.497389\n",
       "min           0.000000\n",
       "25%         136.000000\n",
       "50%         289.000000\n",
       "75%         553.000000\n",
       "max        1866.000000\n",
       "Name: comment_length, dtype: float64"
      ]
     },
     "execution_count": 21,
     "metadata": {},
     "output_type": "execute_result"
    }
   ],
   "source": [
    "df[\"comment_length\"] = df[\"commentBody\"].apply(len)\n",
    "df[\"comment_length\"].describe()"
   ]
  },
  {
   "cell_type": "code",
   "execution_count": 22,
   "id": "17eab055-9583-4af3-80cb-3e5086d98414",
   "metadata": {},
   "outputs": [
    {
     "name": "stdout",
     "output_type": "stream",
     "text": [
      "sarcasm_label\n",
      "0    269013\n",
      "1      6480\n",
      "Name: count, dtype: int64\n"
     ]
    }
   ],
   "source": [
    "# Define common sarcastic phrases\n",
    "sarcasm_keywords = [\n",
    "    \"oh great\", \"yeah sure\", \"just perfect\", \"wow amazing\", \"totally not\", \n",
    "    \"of course\", \"what a surprise\", \"love that\", \"brilliant move\"\n",
    "]\n",
    "\n",
    "# Function to label sarcasm\n",
    "def detect_sarcasm(text):\n",
    "    for phrase in sarcasm_keywords:\n",
    "        if phrase in text:\n",
    "            return 1  # Sarcastic\n",
    "    return 0  # Not Sarcastic\n",
    "\n",
    "# Apply sarcasm detection\n",
    "df[\"sarcasm_label\"] = df[\"commentBody\"].apply(detect_sarcasm)\n",
    "\n",
    "# Check label distribution\n",
    "print(df[\"sarcasm_label\"].value_counts())"
   ]
  },
  {
   "cell_type": "code",
   "execution_count": 23,
   "id": "fab140c1-1e70-4d2f-a7e4-1eb6cfbe22e5",
   "metadata": {},
   "outputs": [
    {
     "name": "stdout",
     "output_type": "stream",
     "text": [
      "1. fallon talent is in comedic parodies and sketches and games. he is lost at sea when it comes to interviews. fallon's mistake was in making trump the toxic presidential candidate look normal and friendly, which he of course is not. nobody should expected fallon to talk politics or be politically savvy, his best approach would have been to be professionally aloof.\n",
      "\n",
      "2. working for trump's administration would be a trip down the rabbit hole, a real donald in wonderland experience. trump, of course, is the queen of hearts yelling, off with their heads!. sean spicer and sarah sanders are twiddle dee and twiddle dum. do you eat a cookie and grow enormous or do you drink from a little bottle and shrink? queen of hearts trump does not like any grandstanding so you better shrink so small you won't be seen.\n",
      "\n",
      "3. of the listed top tech companies, i can really live without the presence of apple. in fact, i already do! i don't use an iphone and instead use an android phone. i don't use macbooks, which i feel are overpriced compared to equivalent pcs. so my life is already devoid of apple. i feel that microsoft will be the one i pick second as the only microsoft product i use is the windows operating system. but without that, i can live with linux as i'm tech savvy and did use linux before.brbrthe companies i'll have most trouble getting rid off is google with facebook at second place. amazon is in the middle as i don't use it that much for shopping. my online life is heavily reliant on google, using gmail, keep, drive, maps etc. and of course android, although it's based on linux and may live on in some way. giving up facebook would be tough as i'll have to find another void to sink my time in.\n",
      "\n",
      "4. something i have been absolutely atrocious at for the longest time is basketball. i have always played it, and it was fun for the most part, so i figured id keep it up. he always would share his stories from college of him and his buddies playing basketball until 1am most nights. that idea really intrigued me as well.brbrthe only problem was that i sucked. bad.brbri played for the citys rec department, i didnt score a basket the whole season, i sort of just stood there hoping i could get the ball. this trend continued until 8th grade for me. i like to call this my prime. this is simply because i was taller than everyone else.brbrmy reign quickly came to a close in high school. everyone caught up to me heightwise, so i couldnt outjump everyone. under the boards i was lost, easily being muscled out of position.brbri kept playing, though, because i always remember how much my family loved watching it, regardless of my skill. during my junior year, i drifted away from the sport, but i was brought back for one more try as a senior.brbrof course, that made things even worse for me from a skill perspective. i didnt play much, but i enjoyed when i could. my dad wanted to see me dunk, so i disregarded the whole shooting thing. by the end of the year, i could, but i never showed it.brbrsome nights i get the dream of me getting the perfect opportunity to throw one down. at some point, i might come back to the sport, but ill always have the really fond memories of it from my childhood.\n",
      "\n",
      "5. im more conservative on issues of free trade, business, entrepreneurship and use of force ...brbrconservative on use of force, tom??brbrand chicken or fish.... that's interesting, because at least three times in this piece you referred to independents, which of course you didn't mean. and you're right. there is no meat. it's rancid chicken, or smelly old fish.\n",
      "\n",
      "6. it's interesting how hipsters manage to take modest, earthy, folk cooking the food of peasants and workers, without pretension and turn into something precious, difficult, obscure, rare and of course, very very expensive.brbr600 for a mexican dinner seems just bizarre to me....\n",
      "\n",
      "7. turned out i had a heart attack. a mild one, but still got me a triple bypass. of course i brought my favorite music and took advantage of the hospital's wifi to keep myself distracted while i waited all night for a bed.\n",
      "\n",
      "8. in your face putin!brand of course his surrogate in d.c. trumcobrnow that hateful woman le pain can go and do what she does best eat cheese\n",
      "\n",
      "9. we dont, of course, know what mueller will find...brbrno, we don't, but we can certainly make an educated guess.\n",
      "\n",
      "10. deputy ag rosensteinin reading this editorial i am reminded of course of watergate. but also of more recent legal briefs gone awryextraordinary rendition and abu graibh another. these off the mark decisions demonstrate how far off the integrity mark educated attorneys can get to when the bosses have no moral compass. but we the american people, also serve as a north star, and we implore you to appoint a special investigator who would be exempt from firing. they will tender a report and then it will be up to our elected officials, flawed as they are, to act. everyday you delay costs you and our nation dearly.\n",
      "\n"
     ]
    }
   ],
   "source": [
    "sarcastic_examples = df[df[\"sarcasm_label\"] == 1][\"commentBody\"].sample(10, random_state=42)\n",
    "\n",
    "# Print them one by one\n",
    "for i, comment in enumerate(sarcastic_examples, 1):\n",
    "    print(f\"{i}. {comment}\\n\")"
   ]
  },
  {
   "cell_type": "code",
   "execution_count": 24,
   "id": "8326d653-16ab-4a18-b1a2-e0f8810a7c01",
   "metadata": {},
   "outputs": [],
   "source": [
    "from sklearn.feature_extraction.text import TfidfVectorizer\n",
    "from sklearn.model_selection import train_test_split\n",
    "from sklearn.naive_bayes import MultinomialNB\n",
    "from sklearn.metrics import accuracy_score, classification_report\n",
    "\n",
    "# Convert comments to TF-IDF vectors\n",
    "vectorizer = TfidfVectorizer(max_features=5000, ngram_range=(1, 2))\n",
    "X = vectorizer.fit_transform(df[\"commentBody\"])\n",
    "y = df[\"sarcasm_label\"]\n",
    "\n",
    "# Split into training & test set (80% train, 20% test)\n",
    "X_train, X_test, y_train, y_test = train_test_split(X, y, test_size=0.2, random_state=42)\n"
   ]
  },
  {
   "cell_type": "code",
   "execution_count": 25,
   "id": "86b3e637-af97-4743-aa3c-31a3d1c94053",
   "metadata": {},
   "outputs": [
    {
     "name": "stdout",
     "output_type": "stream",
     "text": [
      "Accuracy: 0.9753534546906477\n",
      "              precision    recall  f1-score   support\n",
      "\n",
      "           0       0.98      1.00      0.99     53706\n",
      "           1       1.00      0.03      0.05      1393\n",
      "\n",
      "    accuracy                           0.98     55099\n",
      "   macro avg       0.99      0.51      0.52     55099\n",
      "weighted avg       0.98      0.98      0.96     55099\n",
      "\n"
     ]
    }
   ],
   "source": [
    "# Train a Naïve Bayes classifier\n",
    "model = MultinomialNB()\n",
    "model.fit(X_train, y_train)\n",
    "\n",
    "# Make predictions\n",
    "y_pred = model.predict(X_test)\n",
    "\n",
    "# Evaluate model performance\n",
    "print(\"Accuracy:\", accuracy_score(y_test, y_pred))\n",
    "print(classification_report(y_test, y_pred))\n"
   ]
  },
  {
   "cell_type": "code",
   "execution_count": 26,
   "id": "ac2609c5-fa0b-4ac9-9a2e-3fc08b7b2a47",
   "metadata": {},
   "outputs": [
    {
     "name": "stdout",
     "output_type": "stream",
     "text": [
      "Accuracy: 0.985898110673515\n",
      "              precision    recall  f1-score   support\n",
      "\n",
      "           0       0.99      1.00      0.99     53706\n",
      "           1       0.98      0.45      0.62      1393\n",
      "\n",
      "    accuracy                           0.99     55099\n",
      "   macro avg       0.98      0.73      0.81     55099\n",
      "weighted avg       0.99      0.99      0.98     55099\n",
      "\n"
     ]
    }
   ],
   "source": [
    "from imblearn.over_sampling import SMOTE\n",
    "\n",
    "smote = SMOTE(sampling_strategy=0.3, random_state=42)  # 30% sarcastic data\n",
    "X_resampled, y_resampled = smote.fit_resample(X_train, y_train)\n",
    "\n",
    "# Train model again\n",
    "model = MultinomialNB()\n",
    "model.fit(X_resampled, y_resampled)\n",
    "\n",
    "# Predict again\n",
    "y_pred_resampled = model.predict(X_test)\n",
    "\n",
    "# Print new results\n",
    "print(\"Accuracy:\", accuracy_score(y_test, y_pred_resampled))\n",
    "print(classification_report(y_test, y_pred_resampled))"
   ]
  },
  {
   "cell_type": "code",
   "execution_count": null,
   "id": "3c08fdab-a4ea-409e-9fc3-9999cf1cfa22",
   "metadata": {},
   "outputs": [],
   "source": []
  },
  {
   "cell_type": "code",
   "execution_count": null,
   "id": "fc7cca68-8b18-4c34-9aa6-ba6f2e37bae3",
   "metadata": {},
   "outputs": [],
   "source": [
    "\n"
   ]
  },
  {
   "cell_type": "code",
   "execution_count": null,
   "id": "8dd88204-df30-428e-985d-8502e00fc320",
   "metadata": {},
   "outputs": [],
   "source": []
  }
 ],
 "metadata": {
  "kernelspec": {
   "display_name": "Python 3 (ipykernel)",
   "language": "python",
   "name": "python3"
  },
  "language_info": {
   "codemirror_mode": {
    "name": "ipython",
    "version": 3
   },
   "file_extension": ".py",
   "mimetype": "text/x-python",
   "name": "python",
   "nbconvert_exporter": "python",
   "pygments_lexer": "ipython3",
   "version": "3.12.4"
  }
 },
 "nbformat": 4,
 "nbformat_minor": 5
}
